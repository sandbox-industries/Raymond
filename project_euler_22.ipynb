{
 "cells": [
  {
   "cell_type": "code",
   "execution_count": 96,
   "metadata": {},
   "outputs": [
    {
     "data": {
      "text/plain": [
       "'\"MARY\",\"PATRICIA\",\"LINDA\",\"BARBARA\",\"ELIZABETH\"'"
      ]
     },
     "execution_count": 96,
     "metadata": {},
     "output_type": "execute_result"
    }
   ],
   "source": [
    "# Read in the data\n",
    "with open('p022_names.txt','r') as file:     #Project Euler 67. File contains 100 rows\n",
    "    data = file.read()\n",
    "data[0:47]"
   ]
  },
  {
   "cell_type": "code",
   "execution_count": 97,
   "metadata": {},
   "outputs": [
    {
     "data": {
      "text/plain": [
       "['AARON', 'ABBEY', 'ABBIE', 'ABBY', 'ABDUL']"
      ]
     },
     "execution_count": 97,
     "metadata": {},
     "output_type": "execute_result"
    }
   ],
   "source": [
    "# Condition the data\n",
    "data = sorted(data.replace('\"','').split(','))\n",
    "\n",
    "data[0:5]"
   ]
  },
  {
   "cell_type": "code",
   "execution_count": 98,
   "metadata": {},
   "outputs": [
    {
     "data": {
      "text/plain": [
       "871198282"
      ]
     },
     "execution_count": 98,
     "metadata": {},
     "output_type": "execute_result"
    }
   ],
   "source": [
    "# Solve the problem\n",
    "# Method 1\n",
    "\n",
    "i = 0\n",
    "ans = 0\n",
    "\n",
    "while i < len(data):\n",
    "    for char in data[i]:\n",
    "        ans += (i+1)*(ord(char) - ord('A') + 1)\n",
    "    i+=1\n",
    "\n",
    "ans"
   ]
  },
  {
   "cell_type": "code",
   "execution_count": 99,
   "metadata": {},
   "outputs": [
    {
     "data": {
      "text/plain": [
       "871198282"
      ]
     },
     "execution_count": 99,
     "metadata": {},
     "output_type": "execute_result"
    }
   ],
   "source": [
    "# Solve the problem\n",
    "# Method 2\n",
    "\n",
    "    # Variables\n",
    "        # Position in List = pos\n",
    "        # letter = char\n",
    "\n",
    "    # Distributive property a(b+c) = ab + ac\n",
    "        #   pos * (char_val_1 + char_val_2 + char_val_3) \n",
    "        #   pos * char_val_1 + pos * char_val_2 + pos * char_val_3\n",
    "\n",
    "        #  position * alphabet_value          \n",
    "ans = sum((pos + 1) * (ord(char) - ord('A') + 1)       #ord('A') = 65 => ord('B') - ord('A') + 1 = 2\n",
    "          for (pos, name) in enumerate(data)           #(0, AARON)\n",
    "          for char in name)                            #[A,A,R,O,N]\n",
    "ans"
   ]
  },
  {
   "cell_type": "code",
   "execution_count": 100,
   "metadata": {},
   "outputs": [
    {
     "data": {
      "text/plain": [
       "[(0, 'AARON', 'A'),\n",
       " (0, 'AARON', 'A'),\n",
       " (0, 'AARON', 'R'),\n",
       " (0, 'AARON', 'O'),\n",
       " (0, 'AARON', 'N'),\n",
       " (1, 'ABBEY', 'A'),\n",
       " (1, 'ABBEY', 'B'),\n",
       " (1, 'ABBEY', 'B'),\n",
       " (1, 'ABBEY', 'E'),\n",
       " (1, 'ABBEY', 'Y')]"
      ]
     },
     "execution_count": 100,
     "metadata": {},
     "output_type": "execute_result"
    }
   ],
   "source": [
    "# Show what the tuple looks like\n",
    "\n",
    "mylist = [(pos,name,char)\n",
    "          for (pos, name) in enumerate(data)\n",
    "          for char in name]\n",
    "mylist[0:10]"
   ]
  },
  {
   "cell_type": "code",
   "execution_count": 101,
   "metadata": {},
   "outputs": [
    {
     "data": {
      "text/plain": [
       "871198282"
      ]
     },
     "execution_count": 101,
     "metadata": {},
     "output_type": "execute_result"
    }
   ],
   "source": [
    "ans"
   ]
  }
 ],
 "metadata": {
  "kernelspec": {
   "display_name": "Python 3",
   "language": "python",
   "name": "python3"
  },
  "language_info": {
   "codemirror_mode": {
    "name": "ipython",
    "version": 3
   },
   "file_extension": ".py",
   "mimetype": "text/x-python",
   "name": "python",
   "nbconvert_exporter": "python",
   "pygments_lexer": "ipython3",
   "version": "3.7.3"
  }
 },
 "nbformat": 4,
 "nbformat_minor": 4
}
