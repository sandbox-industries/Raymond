{
 "cells": [
  {
   "cell_type": "markdown",
   "metadata": {},
   "source": [
    "## Project Euler 22\n",
    "\n",
    "Using names.txt (right click and 'Save Link/Target As...'), a 46K text file containing over five-thousand first names, begin by sorting it into alphabetical order. Then working out the alphabetical value for each name, multiply this value by its alphabetical position in the list to obtain a name score.\n",
    "\n",
    "For example, when the list is sorted into alphabetical order, COLIN, which is worth 3 + 15 + 12 + 9 + 14 = 53, is the 938th name in the list. So, COLIN would obtain a score of 938 × 53 = 49714.\n",
    "\n",
    "What is the total of all the name scores in the file?"
   ]
  },
  {
   "cell_type": "code",
   "execution_count": 1,
   "metadata": {},
   "outputs": [
    {
     "data": {
      "text/plain": [
       "'\"MARY\",\"PATRICIA\",\"LINDA\",\"BARBARA\",\"ELIZABETH\"'"
      ]
     },
     "execution_count": 1,
     "metadata": {},
     "output_type": "execute_result"
    }
   ],
   "source": [
    "# Read in the data\n",
    "with open('p022_names.txt','r') as file:     #Project Euler 67. File contains 100 rows\n",
    "    data = file.read()\n",
    "data[0:47]"
   ]
  },
  {
   "cell_type": "code",
   "execution_count": 2,
   "metadata": {},
   "outputs": [
    {
     "data": {
      "text/plain": [
       "['AARON', 'ABBEY', 'ABBIE', 'ABBY', 'ABDUL']"
      ]
     },
     "execution_count": 2,
     "metadata": {},
     "output_type": "execute_result"
    }
   ],
   "source": [
    "# Condition the data\n",
    "data = sorted(data.replace('\"','').split(','))\n",
    "\n",
    "data[0:5]"
   ]
  },
  {
   "cell_type": "code",
   "execution_count": 3,
   "metadata": {},
   "outputs": [
    {
     "data": {
      "text/plain": [
       "871198282"
      ]
     },
     "execution_count": 3,
     "metadata": {},
     "output_type": "execute_result"
    }
   ],
   "source": [
    "# Solve the problem\n",
    "# Method 1\n",
    "\n",
    "i = 0\n",
    "ans = 0\n",
    "\n",
    "while i < len(data):\n",
    "    for char in data[i]:\n",
    "        ans += (i+1)*(ord(char) - ord('A') + 1)\n",
    "    i+=1\n",
    "\n",
    "ans"
   ]
  },
  {
   "cell_type": "code",
   "execution_count": 4,
   "metadata": {},
   "outputs": [
    {
     "data": {
      "text/plain": [
       "871198282"
      ]
     },
     "execution_count": 4,
     "metadata": {},
     "output_type": "execute_result"
    }
   ],
   "source": [
    "# Solve the problem\n",
    "# Method 2\n",
    "\n",
    "    # Variables\n",
    "        # Position in List = pos\n",
    "        # letter = char\n",
    "\n",
    "    # Distributive property a(b+c) = ab + ac\n",
    "        #   pos * (char_val_1 + char_val_2 + char_val_3) \n",
    "        #   pos * char_val_1 + pos * char_val_2 + pos * char_val_3\n",
    "\n",
    "        #  position * alphabet_value          \n",
    "ans = sum((pos + 1) * (ord(char) - ord('A') + 1)       #ord('A') = 65 => ord('B') - ord('A') + 1 = 2\n",
    "          for (pos, name) in enumerate(data)           #(0, AARON)\n",
    "          for char in name)                            #[A,A,R,O,N]\n",
    "ans"
   ]
  },
  {
   "cell_type": "code",
   "execution_count": 5,
   "metadata": {},
   "outputs": [
    {
     "data": {
      "text/plain": [
       "[(0, 'AARON', 'A'),\n",
       " (0, 'AARON', 'A'),\n",
       " (0, 'AARON', 'R'),\n",
       " (0, 'AARON', 'O'),\n",
       " (0, 'AARON', 'N'),\n",
       " (1, 'ABBEY', 'A'),\n",
       " (1, 'ABBEY', 'B'),\n",
       " (1, 'ABBEY', 'B'),\n",
       " (1, 'ABBEY', 'E'),\n",
       " (1, 'ABBEY', 'Y')]"
      ]
     },
     "execution_count": 5,
     "metadata": {},
     "output_type": "execute_result"
    }
   ],
   "source": [
    "# Show what the tuple looks like\n",
    "\n",
    "mylist = [(pos,name,char)\n",
    "          for (pos, name) in enumerate(data)\n",
    "          for char in name]\n",
    "mylist[0:10]"
   ]
  },
  {
   "cell_type": "code",
   "execution_count": 6,
   "metadata": {},
   "outputs": [
    {
     "data": {
      "text/plain": [
       "871198282"
      ]
     },
     "execution_count": 6,
     "metadata": {},
     "output_type": "execute_result"
    }
   ],
   "source": [
    "ans"
   ]
  }
 ],
 "metadata": {
  "kernelspec": {
   "display_name": "Python 3",
   "language": "python",
   "name": "python3"
  },
  "language_info": {
   "codemirror_mode": {
    "name": "ipython",
    "version": 3
   },
   "file_extension": ".py",
   "mimetype": "text/x-python",
   "name": "python",
   "nbconvert_exporter": "python",
   "pygments_lexer": "ipython3",
   "version": "3.7.3"
  }
 },
 "nbformat": 4,
 "nbformat_minor": 4
}
