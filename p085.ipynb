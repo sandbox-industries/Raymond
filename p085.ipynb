{
 "cells": [
  {
   "cell_type": "markdown",
   "metadata": {},
   "source": [
    "### Counting Rectangles\n",
    "#### Problem 85\n",
    "By counting carefully it can be seen that a rectangular grid measuring 3 by 2 contains eighteen rectangles:\n",
    "\n",
    "![image](p085.png)\n",
    "\n",
    "Although there exists no rectangular grid that contains exactly two million rectangles, find the area of the grid with the nearest solution."
   ]
  },
  {
   "cell_type": "markdown",
   "metadata": {},
   "source": [
    "------------------\n",
    "The number of rectangles for an x by y grid is given by the formula:\n",
    "\n",
    "![image](equation.png)"
   ]
  },
  {
   "cell_type": "markdown",
   "metadata": {},
   "source": [
    "### Method 1"
   ]
  },
  {
   "cell_type": "code",
   "execution_count": 66,
   "metadata": {},
   "outputs": [],
   "source": [
    "def solve(target=18):\n",
    "    \n",
    "    diff_rectangles = 1000 #arbitrary large number\n",
    "    end = int((-1+(1-4*(-2)*target)**0.5)/2)+1 # largest possible value of x\n",
    "    \n",
    "    for x in range(1,end):\n",
    "        \n",
    "        for y in range(1,end):\n",
    "            \n",
    "            rectangles = num_rectangles(x,y)\n",
    "            \n",
    "            if abs(rectangles - target) < diff_rectangles:\n",
    "                diff_rectangles = abs(rectangles - target)\n",
    "                xy = (x,y)\n",
    "                \n",
    "    return {'ans':xy,\n",
    "            'area':xy[0]*xy[1]}\n",
    "                \n",
    "def num_rectangles(x,y):\n",
    "    return (x**2 + x) * (y**2 + y) / 4"
   ]
  },
  {
   "cell_type": "code",
   "execution_count": 67,
   "metadata": {},
   "outputs": [
    {
     "name": "stdout",
     "output_type": "stream",
     "text": [
      "x,y: (36, 77)\n",
      "area: 2772\n"
     ]
    }
   ],
   "source": [
    "result = solve(target=2E6)\n",
    "print('x,y:',result['ans'])\n",
    "print('area:',result['area'])"
   ]
  },
  {
   "cell_type": "markdown",
   "metadata": {},
   "source": [
    "### Method 2"
   ]
  },
  {
   "cell_type": "code",
   "execution_count": 68,
   "metadata": {},
   "outputs": [],
   "source": [
    "def solve(target=18):\n",
    "    \n",
    "    end = int((-1+(1-4*(-2)*target)**0.5)/2)+1 # largest possible value of x\n",
    "    \n",
    "    xyList = ((x, y) for x in range(1, end) for y in range(1, end)) # cartesian product of x y combinations\n",
    "    \n",
    "    func = lambda xy: abs(num_rectangles(*xy) - target)\n",
    "    \n",
    "    xy = min(xyList, key=func) # returns the x y tuple that products the closest number of rectangles to the target\n",
    "    \n",
    "    return {'ans':xy,\n",
    "            'area':xy[0]*xy[1]}\n",
    "\n",
    "def num_rectangles(x,y):\n",
    "    return (x**2 + x) * (y**2 + y) / 4"
   ]
  },
  {
   "cell_type": "code",
   "execution_count": 69,
   "metadata": {
    "scrolled": true
   },
   "outputs": [
    {
     "name": "stdout",
     "output_type": "stream",
     "text": [
      "x,y: (36, 77)\n",
      "area: 2772\n"
     ]
    }
   ],
   "source": [
    "result = solve(target=2E6)\n",
    "print('x,y:',result['ans'])\n",
    "print('area:',result['area'])"
   ]
  }
 ],
 "metadata": {
  "kernelspec": {
   "display_name": "Python 3",
   "language": "python",
   "name": "python3"
  },
  "language_info": {
   "codemirror_mode": {
    "name": "ipython",
    "version": 3
   },
   "file_extension": ".py",
   "mimetype": "text/x-python",
   "name": "python",
   "nbconvert_exporter": "python",
   "pygments_lexer": "ipython3",
   "version": "3.7.7"
  }
 },
 "nbformat": 4,
 "nbformat_minor": 4
}
