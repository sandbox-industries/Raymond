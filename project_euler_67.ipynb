{
 "cells": [
  {
   "cell_type": "markdown",
   "metadata": {},
   "source": [
    "## Project Euler Problem 67\n",
    "\n",
    "By starting at the top of the triangle below and moving to adjacent numbers on the row below, the maximum total from top to bottom is 23.\n",
    "\n",
    "           3\n",
    "          7 4\n",
    "         2 4 6\n",
    "        8 5 9 3\n",
    "\n",
    "That is, 3 + 7 + 4 + 9 = 23.\n",
    "\n",
    "Find the maximum total from top to bottom in triangle.txt (right click and 'Save Link/Target As...'), a 15K text file containing a triangle with one-hundred rows.\n",
    "\n",
    "NOTE: This is a much more difficult version of Problem 18. It is not possible to try every route to solve this problem, as there are 299 altogether! If you could check one trillion (1012) routes every second it would take over twenty billion years to check them all. There is an efficient algorithm to solve it. ;o)"
   ]
  },
  {
   "cell_type": "code",
   "execution_count": 1,
   "metadata": {},
   "outputs": [
    {
     "data": {
      "text/plain": [
       "['59\\n',\n",
       " '73 41\\n',\n",
       " '52 40 09\\n',\n",
       " '26 53 06 34\\n',\n",
       " '10 51 87 86 81\\n',\n",
       " '61 95 66 57 25 68\\n',\n",
       " '90 81 80 38 92 67 73\\n',\n",
       " '30 28 51 76 81 18 75 44\\n',\n",
       " '84 14 95 87 62 81 17 78 58\\n',\n",
       " '21 46 71 58 02 79 62 39 31 09\\n']"
      ]
     },
     "execution_count": 1,
     "metadata": {},
     "output_type": "execute_result"
    }
   ],
   "source": [
    "# Read in the data\n",
    "with open('p067_triangle.txt','r') as file:     #Project Euler 67. File contains 100 rows\n",
    "    data = file.readlines()\n",
    "    \n",
    "data[0:10]"
   ]
  },
  {
   "cell_type": "code",
   "execution_count": 2,
   "metadata": {},
   "outputs": [],
   "source": [
    "# Condition the Data\n",
    "for i in range(len(data)):\n",
    "    data[i]= list(map(int,data[i].split(' ')))"
   ]
  },
  {
   "cell_type": "code",
   "execution_count": 3,
   "metadata": {},
   "outputs": [
    {
     "name": "stdout",
     "output_type": "stream",
     "text": [
      "               First 10 rows\n",
      "                                                       [59]\n",
      "                                                     [73, 41]\n",
      "                                                   [52, 40, 9]\n",
      "                                                 [26, 53, 6, 34]\n",
      "                                               [10, 51, 87, 86, 81]\n",
      "                                             [61, 95, 66, 57, 25, 68]\n",
      "                                           [90, 81, 80, 38, 92, 67, 73]\n",
      "                                         [30, 28, 51, 76, 81, 18, 75, 44]\n",
      "                                       [84, 14, 95, 87, 62, 81, 17, 78, 58]\n",
      "                                     [21, 46, 71, 58, 2, 79, 62, 39, 31, 9]\n",
      "                                   ........................................                              \n",
      "                                   ........................................                              \n",
      "               Last 10 rows\n",
      "                              [30, 18, 22, 20, 42, 96, 65, 79, 17, 41]\n",
      "                            [51, 96, 39, 65, 46, 71, 56, 13, 29, 68]\n",
      "                          [44, 61, 89, 59, 4, 49, 51, 27, 69, 71]\n",
      "                        [65, 37, 19, 97, 26, 17, 16, 24, 24, 17]\n",
      "                      [73, 81, 14, 13, 17, 20, 11, 9, 1, 83]\n",
      "                    [17, 25, 21, 11, 72, 93, 33, 49, 64, 23]\n",
      "                  [60, 85, 59, 39, 60, 7, 57, 76, 77, 92]\n",
      "                [64, 66, 84, 24, 18, 16, 27, 48, 20, 14]\n",
      "              [30, 11, 85, 31, 34, 71, 13, 48, 5, 14]\n",
      "            [23, 33, 44, 81, 80, 92, 93, 75, 94, 88]\n"
     ]
    }
   ],
   "source": [
    "# Printing the data\n",
    "\n",
    "print_num=10\n",
    "\n",
    "# Print the top of the triangle\n",
    "count = print_num*3\n",
    "print(' '*15+'First '+str(print_num)+' rows')\n",
    "for i in range(0,print_num):\n",
    "    print(' '*25+' '*count+str(data[i]))\n",
    "    count -= 2\n",
    "print(' '*35+'.'*40+' '*30)\n",
    "print(' '*35+'.'*40+' '*30)\n",
    "\n",
    "# Print the bottom of the triangle\n",
    "count = print_num*3\n",
    "print(' '*15+'Last '+str(print_num)+' rows')\n",
    "for i in range(len(data)-10,len(data)):\n",
    "    print(' '*count+str(data[i][0:10]))\n",
    "    count -=2"
   ]
  },
  {
   "cell_type": "code",
   "execution_count": 4,
   "metadata": {},
   "outputs": [
    {
     "data": {
      "text/plain": [
       "[[7273],\n",
       " [7214, 7170],\n",
       " [7141, 7129, 7078],\n",
       " [7028, 7089, 7042, 7069],\n",
       " [6961, 7002, 7036, 7035, 6998],\n",
       " [6812, 6951, 6922, 6949, 6917, 6915],\n",
       " [6740, 6751, 6856, 6838, 6892, 6841, 6847],\n",
       " [6650, 6647, 6670, 6776, 6800, 6737, 6774, 6743],\n",
       " [6620, 6550, 6619, 6611, 6700, 6719, 6638, 6699, 6671],\n",
       " [6533, 6536, 6513, 6524, 6511, 6638, 6621, 6621, 6613, 6564]]"
      ]
     },
     "execution_count": 4,
     "metadata": {},
     "output_type": "execute_result"
    }
   ],
   "source": [
    "# Find the max path\n",
    "for i in reversed(range(len(data) - 1)):   # iter 98-0\n",
    "    #print(i)\n",
    "    \n",
    "    for j in range(len(data[i])):          # iter 0-(length of each line)\n",
    "        #print(j)\n",
    "        data[i][j] += max(data[i + 1][j], data[i+1][j+1])\n",
    "\n",
    "data[0:10]"
   ]
  },
  {
   "cell_type": "code",
   "execution_count": 5,
   "metadata": {},
   "outputs": [
    {
     "data": {
      "text/plain": [
       "[7273]"
      ]
     },
     "execution_count": 5,
     "metadata": {},
     "output_type": "execute_result"
    }
   ],
   "source": [
    "# Top of triangle represents the sum of the max path\n",
    "data[0]"
   ]
  }
 ],
 "metadata": {
  "kernelspec": {
   "display_name": "Python 3",
   "language": "python",
   "name": "python3"
  },
  "language_info": {
   "codemirror_mode": {
    "name": "ipython",
    "version": 3
   },
   "file_extension": ".py",
   "mimetype": "text/x-python",
   "name": "python",
   "nbconvert_exporter": "python",
   "pygments_lexer": "ipython3",
   "version": "3.7.3"
  }
 },
 "nbformat": 4,
 "nbformat_minor": 4
}
