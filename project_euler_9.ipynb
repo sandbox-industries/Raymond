{
 "cells": [
  {
   "cell_type": "markdown",
   "metadata": {},
   "source": [
    "## Special Pythagorean triplet\n",
    "\n",
    "A Pythagorean triplet is a set of three natural numbers, a < b < c, for which,\n",
    "a2 + b2 = c2\n",
    "\n",
    "For example, 32 + 42 = 9 + 16 = 25 = 52.\n",
    "\n",
    "There exists exactly one Pythagorean triplet for which a + b + c = 1000.\n",
    "Find the product abc."
   ]
  },
  {
   "cell_type": "code",
   "execution_count": 1,
   "metadata": {
    "scrolled": false
   },
   "outputs": [
    {
     "name": "stdout",
     "output_type": "stream",
     "text": [
      "Wall time: 32.9 ms\n",
      "(200, 375, 425, 68359)\n"
     ]
    }
   ],
   "source": [
    "#Brute Force. Little Optimization\n",
    "\n",
    "def pythagoran(perimeter):                   # Perimeter = a + b + c \n",
    "    counter = 0                              # Variable to keep track of iterations\n",
    "    \n",
    "    for a in range(1,perimeter):             # Implies a > 0\n",
    "\n",
    "        for b in range(a + 1,perimeter+1):   # Implies a < b\n",
    "            counter += 1                     # Increment variable to count the nth attempt\n",
    "            c = perimeter - (a + b)          # Define c as function of a,b\n",
    "            #print(a,b,c)                    # Print statement to troubleshoot\n",
    "            if a + b < c:                    # If this is not a triangle, continue with b += 1\n",
    "                continue\n",
    "            if a**2 + b**2 > c**2:           # Once a^2 + b^2 exceeds c^2, incrementing b will not satisfy the equality\n",
    "                break\n",
    "            if a**2 + b**2 == c**2:                \n",
    "                return(a,b,c,counter)\n",
    "\n",
    "%time ans = pythagoran(1000)                 # %time shows the wall time,\n",
    "print(ans)"
   ]
  },
  {
   "cell_type": "code",
   "execution_count": 2,
   "metadata": {},
   "outputs": [],
   "source": [
    "# Questions\n",
    "    # %time vs %timeit\n",
    "        # timeit  29.4 ms ± 1.09 ms per loop (mean ± std. dev. of 7 runs, 10 loops each)\n",
    "        # time    Wall time: 32.9 ms"
   ]
  }
 ],
 "metadata": {
  "kernelspec": {
   "display_name": "Python 3",
   "language": "python",
   "name": "python3"
  },
  "language_info": {
   "codemirror_mode": {
    "name": "ipython",
    "version": 3
   },
   "file_extension": ".py",
   "mimetype": "text/x-python",
   "name": "python",
   "nbconvert_exporter": "python",
   "pygments_lexer": "ipython3",
   "version": "3.7.3"
  }
 },
 "nbformat": 4,
 "nbformat_minor": 4
}
