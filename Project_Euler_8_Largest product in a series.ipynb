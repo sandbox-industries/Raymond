{
 "cells": [
  {
   "cell_type": "code",
   "execution_count": 1,
   "metadata": {},
   "outputs": [],
   "source": [
    "import time"
   ]
  },
  {
   "cell_type": "code",
   "execution_count": 2,
   "metadata": {
    "scrolled": true
   },
   "outputs": [],
   "source": [
    "large_num= \\\n",
    "'73167176531330624919225119674426574742355349194934 \\\n",
    "96983520312774506326239578318016984801869478851843 \\\n",
    "85861560789112949495459501737958331952853208805511 \\\n",
    "12540698747158523863050715693290963295227443043557 \\\n",
    "66896648950445244523161731856403098711121722383113 \\\n",
    "62229893423380308135336276614282806444486645238749 \\\n",
    "30358907296290491560440772390713810515859307960866 \\\n",
    "70172427121883998797908792274921901699720888093776 \\\n",
    "65727333001053367881220235421809751254540594752243 \\\n",
    "52584907711670556013604839586446706324415722155397 \\\n",
    "53697817977846174064955149290862569321978468622482 \\\n",
    "83972241375657056057490261407972968652414535100474 \\\n",
    "82166370484403199890008895243450658541227588666881 \\\n",
    "16427171479924442928230863465674813919123162824586 \\\n",
    "17866458359124566529476545682848912883142607690042 \\\n",
    "24219022671055626321111109370544217506941658960408 \\\n",
    "07198403850962455444362981230987879927244284909188 \\\n",
    "84580156166097919133875499200524063689912560717606 \\\n",
    "05886116467109405077541002256983155200055935729725 \\\n",
    "71636269561882670428252483600823257530420752963450 '"
   ]
  },
  {
   "cell_type": "code",
   "execution_count": 3,
   "metadata": {},
   "outputs": [],
   "source": [
    "#Replace spaces, initialize variables\n",
    "large_num = large_num.replace(' ','')\n",
    "largest_product = 1"
   ]
  },
  {
   "cell_type": "code",
   "execution_count": 4,
   "metadata": {},
   "outputs": [
    {
     "name": "stdout",
     "output_type": "stream",
     "text": [
      "Largest Prod:  23514624000\n",
      "Elapsed Time:  0.002991199493408203  seconds\n"
     ]
    }
   ],
   "source": [
    "start = time.time()\n",
    "\n",
    "for i in range(0,len(large_num)-12):             # Iterator: represents count of thirteen adjacent digit-numbers we can create from large_num\n",
    "    product = 1                                  # Product Variable initialized here\n",
    "    for j in range(i,i+13):                      # Iterator for each item in a given thirteen digit number\n",
    "        #print(i,j,large_num[j])                 # Print statement to troubleshoot\n",
    "        if large_num[j] == '0':                  # Optimization: if the thirteen digit number contains 0, break\n",
    "            break \n",
    "        product *= int(large_num[j])\n",
    "        #print(product)                          # Print statement to troubleshoot or help optimize code\n",
    "        if product > largest_product:            \n",
    "            largest_product = product\n",
    "    #print('---------------------')              # Print statement to delimit the second 'for' loop\n",
    "\n",
    "stop = time.time()\n",
    "\n",
    "print('Largest Prod: ',largest_product)\n",
    "print('Elapsed Time: ',stop - start,' seconds')"
   ]
  },
  {
   "cell_type": "code",
   "execution_count": 5,
   "metadata": {},
   "outputs": [],
   "source": [
    "# Ran 1000 Trials with and wihout optimization (Lines 7-8)\n",
    "\n",
    "# Without optimization avg time = 0.004992253 seconds\n",
    "#    With optimization avg time = 0.003357131 seconds\n"
   ]
  }
 ],
 "metadata": {
  "kernelspec": {
   "display_name": "Python 3",
   "language": "python",
   "name": "python3"
  },
  "language_info": {
   "codemirror_mode": {
    "name": "ipython",
    "version": 3
   },
   "file_extension": ".py",
   "mimetype": "text/x-python",
   "name": "python",
   "nbconvert_exporter": "python",
   "pygments_lexer": "ipython3",
   "version": "3.7.3"
  }
 },
 "nbformat": 4,
 "nbformat_minor": 4
}
