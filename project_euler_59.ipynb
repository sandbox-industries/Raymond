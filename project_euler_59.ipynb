{
 "cells": [
  {
   "cell_type": "markdown",
   "metadata": {},
   "source": [
    "## XOR Decryption\n",
    "\n",
    "Each character on a computer is assigned a unique code and the preferred standard is ASCII (American Standard Code for Information Interchange). For example, uppercase A = 65, asterisk (*) = 42, and lowercase k = 107.\n",
    "\n",
    "A modern encryption method is to take a text file, convert the bytes to ASCII, then XOR each byte with a given value, taken from a secret key. The advantage with the XOR function is that using the same encryption key on the cipher text, restores the plain text; for example, 65 XOR 42 = 107, then 107 XOR 42 = 65.\n",
    "\n",
    "For unbreakable encryption, the key is the same length as the plain text message, and the key is made up of random bytes. The user would keep the encrypted message and the encryption key in different locations, and without both \"halves\", it is impossible to decrypt the message.\n",
    "\n",
    "Unfortunately, this method is impractical for most users, so the modified method is to use a password as a key. If the password is shorter than the message, which is likely, the key is repeated cyclically throughout the message. The balance for this method is using a sufficiently long password key for security, but short enough to be memorable.\n",
    "\n",
    "Your task has been made easy, as the encryption key consists of three lower case characters. Using p059_cipher.txt (right click and 'Save Link/Target As...'), a file containing the encrypted ASCII codes, and the knowledge that the plain text must contain common English words, decrypt the message and find the sum of the ASCII values in the original text."
   ]
  },
  {
   "cell_type": "code",
   "execution_count": 1,
   "metadata": {},
   "outputs": [],
   "source": [
    "from timeit import default_timer"
   ]
  },
  {
   "cell_type": "code",
   "execution_count": 2,
   "metadata": {},
   "outputs": [
    {
     "data": {
      "text/plain": [
       "'36,22,80,0,0,4,23,25,19,17'"
      ]
     },
     "execution_count": 2,
     "metadata": {},
     "output_type": "execute_result"
    }
   ],
   "source": [
    "# Read in the data\n",
    "\n",
    "with open('p059_cipher.txt','r') as file:\n",
    "    cipher = file.read()\n",
    "cipher[0:26]"
   ]
  },
  {
   "cell_type": "code",
   "execution_count": 3,
   "metadata": {},
   "outputs": [
    {
     "data": {
      "text/plain": [
       "[36, 22, 80, 0, 0, 4, 23, 25, 19, 17]"
      ]
     },
     "execution_count": 3,
     "metadata": {},
     "output_type": "execute_result"
    }
   ],
   "source": [
    "# Condition the data\n",
    "\n",
    "cipher= cipher.split(',')\n",
    "cipher = list(map(int,cipher))\n",
    "cipher[0:10]"
   ]
  },
  {
   "cell_type": "code",
   "execution_count": 4,
   "metadata": {},
   "outputs": [
    {
     "name": "stdout",
     "output_type": "stream",
     "text": [
      "The cipher has 1455 characters\n",
      "With a 3 character key, there are 17576 possible key combinations\n"
     ]
    }
   ],
   "source": [
    "# Information\n",
    "\n",
    "print('The cipher has',len(cipher),'characters')\n",
    "print('With a 3 character key, there are',str(26**3),'possible key combinations')"
   ]
  },
  {
   "cell_type": "code",
   "execution_count": 5,
   "metadata": {},
   "outputs": [],
   "source": [
    "# Functions\n",
    "\n",
    "def decrypt(cipher, key):\n",
    "    '''\n",
    "    Input is two literables. \n",
    "        1-cipher text (a list of integers)\n",
    "        2-key (a list list of ASCII values)\n",
    "    Output is a list of ASCII values.\n",
    "    '''\n",
    "    return [(c ^ key[idx % len(key)]) for (idx, c) in enumerate(cipher)]\n",
    "\n",
    "def get_score(ascii_values):\n",
    "    '''\n",
    "    This function scores a decryption output to determine if the key is good.\n",
    "    \n",
    "    Input is a list of ASCII values. \n",
    "    Output is a numeric score (higher = better).\n",
    "    '''\n",
    "    score = 0\n",
    "    \n",
    "    for c in ascii_values:\n",
    "        if c <= 31 or c >= 127:  # 0-31,127 ASCII control characters, >127 Extended ASCII\n",
    "            return 0       \n",
    "    \n",
    "        elif 65 <= c <= 90:      # A-Z\n",
    "            score += 1\n",
    "        \n",
    "        elif 97 <= c <= 122:     # a-z\n",
    "            score += 2\n",
    "            \n",
    "        elif c == 32:            # ' '\n",
    "            score += 3\n",
    "\n",
    "    return score\n",
    "\n",
    "def solve(char=100):\n",
    "    '''\n",
    "    char: (int) number of characers in cipher to use when finding the best key\n",
    "    '''\n",
    "    best_key = max(((key1, key2, key3)\n",
    "        for key1 in range(97, 123)  # ASCII 'a' = 97, 'z' = 122\n",
    "        for key2 in range(97, 123)\n",
    "        for key3 in range(97, 123)),\n",
    "        key = lambda current_key: get_score(decrypt(cipher[0:char], current_key)))\n",
    "    \n",
    "    key_text = ''\n",
    "    for i in best_key:\n",
    "        key_text += str(chr(i))\n",
    "    \n",
    "    decoded_ascii = decrypt(cipher, best_key)\n",
    "    \n",
    "    decoded_text = ''\n",
    "    for c in decoded_ascii:\n",
    "        decoded_text += chr(c)\n",
    "    \n",
    "    ans = sum(decoded_ascii)\n",
    "    \n",
    "    return {'key_ascii':best_key, \n",
    "            'key_text':key_text, \n",
    "            'text':decoded_text,\n",
    "            'ans':ans}"
   ]
  },
  {
   "cell_type": "code",
   "execution_count": 6,
   "metadata": {},
   "outputs": [
    {
     "name": "stdout",
     "output_type": "stream",
     "text": [
      "key: exp (101, 120, 112) \n",
      "\n",
      "time: 0.1571 seconds \n",
      "\n",
      "text: An extract taken from the introduction of one of Euler's most celebrated papers, \"De summis serierum reciprocarum\" [On the sums of series of reciprocals]: I have recently found, quite unexpectedly, an elegant expression for the entire sum of this series 1 + 1/4 + 1/9 + 1/16 + etc., which depends on the quadrature of the circle, so that if the true sum of this series is obtained, from it at once the quadrature of the circle follows. Namely, I have found that the sum of this series is a sixth part of the square of the perimeter of the circle whose diameter is 1; or by putting the sum of this series equal to s, it has the ratio sqrt(6) multiplied by s to 1 of the perimeter to the diameter. I will soon show that the sum of this series to be approximately 1.644934066842264364; and from multiplying this number by six, and then taking the square root, the number 3.141592653589793238 is indeed produced, which expresses the perimeter of a circle whose diameter is 1. Following again the same steps by which I had arrived at this sum, I have discovered that the sum of the series 1 + 1/16 + 1/81 + 1/256 + 1/625 + etc. also depends on the quadrature of the circle. Namely, the sum of this multiplied by 90 gives the biquadrate (fourth power) of the circumference of the perimeter of a circle whose diameter is 1. And by similar reasoning I have likewise been able to determine the sums of the subsequent series in which the exponents are even numbers. \n",
      "\n",
      "answer: 129448\n"
     ]
    }
   ],
   "source": [
    "# Run script\n",
    "\n",
    "start = default_timer()\n",
    "result = solve(30)\n",
    "stop = default_timer()\n",
    "\n",
    "print('key:',result['key_text'],result['key_ascii'],'\\n')\n",
    "print('time:',round(stop-start,4),'seconds','\\n')\n",
    "print('text:',result['text'],'\\n')\n",
    "print('answer:',result['ans'])"
   ]
  }
 ],
 "metadata": {
  "kernelspec": {
   "display_name": "Python 3",
   "language": "python",
   "name": "python3"
  },
  "language_info": {
   "codemirror_mode": {
    "name": "ipython",
    "version": 3
   },
   "file_extension": ".py",
   "mimetype": "text/x-python",
   "name": "python",
   "nbconvert_exporter": "python",
   "pygments_lexer": "ipython3",
   "version": "3.7.3"
  }
 },
 "nbformat": 4,
 "nbformat_minor": 4
}
