{
 "cells": [
  {
   "cell_type": "markdown",
   "metadata": {},
   "source": [
    "### Coded triangle numbers\n",
    "\n",
    "#### Problem 42\n",
    "\n",
    "\n",
    "The nth term of the sequence of triangle numbers is given by, tn = ½n(n+1); so the first ten triangle numbers are:\n",
    "\n",
    "1, 3, 6, 10, 15, 21, 28, 36, 45, 55, ...\n",
    "\n",
    "By converting each letter in a word to a number corresponding to its alphabetical position and adding these values we form a word value. For example, the word value for SKY is 19 + 11 + 25 = 55 = t10. If the word value is a triangle number then we shall call the word a triangle word.\n",
    "\n",
    "Using words.txt (right click and 'Save Link/Target As...'), a 16K text file containing nearly two-thousand common English words, how many are triangle words?"
   ]
  },
  {
   "cell_type": "code",
   "execution_count": 22,
   "metadata": {},
   "outputs": [
    {
     "data": {
      "text/plain": [
       "'\"A\",\"ABILITY\",\"ABLE\",\"ABOUT\",\"ABOVE\",\"ABSENCE\"'"
      ]
     },
     "execution_count": 22,
     "metadata": {},
     "output_type": "execute_result"
    }
   ],
   "source": [
    "# Read in the data\n",
    "\n",
    "with open('p042_words.txt','r') as file:\n",
    "    word_list = file.read()\n",
    "    \n",
    "word_list[0:46]"
   ]
  },
  {
   "cell_type": "code",
   "execution_count": 23,
   "metadata": {},
   "outputs": [
    {
     "data": {
      "text/plain": [
       "['A',\n",
       " 'ABILITY',\n",
       " 'ABLE',\n",
       " 'ABOUT',\n",
       " 'ABOVE',\n",
       " 'ABSENCE',\n",
       " 'ABSOLUTELY',\n",
       " 'ACADEMIC',\n",
       " 'ACCEPT',\n",
       " 'ACCESS']"
      ]
     },
     "execution_count": 23,
     "metadata": {},
     "output_type": "execute_result"
    }
   ],
   "source": [
    "# Condition the data\n",
    "\n",
    "word_list = word_list.replace('\"','').split(',')\n",
    "word_list[0:10]"
   ]
  },
  {
   "cell_type": "code",
   "execution_count": 24,
   "metadata": {},
   "outputs": [
    {
     "name": "stdout",
     "output_type": "stream",
     "text": [
      "There are 1786 words in the list\n",
      "The shortest word has 1 letter\n",
      "The longest word has 14 letters\n"
     ]
    }
   ],
   "source": [
    "# Observations\n",
    "\n",
    "print('There are',len(word_list),'words in the list')\n",
    "print('The shortest word has',min(len(word) for word in word_list),'letter')\n",
    "print('The longest word has',max(len(word) for word in word_list),'letters')"
   ]
  },
  {
   "cell_type": "code",
   "execution_count": 33,
   "metadata": {},
   "outputs": [],
   "source": [
    "# Functions\n",
    "\n",
    "def is_triangle_word(n: int)-> bool:\n",
    "    \"\"\"eqn to check if input(int) is a triangle number\n",
    "    sqrt(8 * n + 1) must = a natural number\"\"\"\n",
    "    \n",
    "    if (8 * n + 1)**(1/2) % 1 == 0:\n",
    "        return True"
   ]
  },
  {
   "cell_type": "code",
   "execution_count": 34,
   "metadata": {},
   "outputs": [
    {
     "name": "stdout",
     "output_type": "stream",
     "text": [
      "ans: 162\n"
     ]
    }
   ],
   "source": [
    "# 1 Solve using loops\n",
    "\n",
    "def solve():\n",
    "    count = 0\n",
    "    \n",
    "    for word in word_list:\n",
    "        word_value = 0\n",
    "        \n",
    "        for letter in word:\n",
    "            word_value += (ord(letter) - ord('A') + 1)\n",
    "        \n",
    "        if is_triangle_word(word_value):\n",
    "            count += 1\n",
    "    \n",
    "    return count\n",
    "\n",
    "print('ans:',solve())"
   ]
  },
  {
   "cell_type": "code",
   "execution_count": 35,
   "metadata": {},
   "outputs": [
    {
     "name": "stdout",
     "output_type": "stream",
     "text": [
      "ans: 162\n"
     ]
    }
   ],
   "source": [
    "# 2 Solve using list comprehension\n",
    "# expression for val in collection [if expression]\n",
    "\n",
    "def solve():\n",
    "    count = sum(1 for word in word_list \n",
    "                  if is_triangle_word(    sum(  (ord(letter) - ord('A') + 1) for letter in word  )    ))\n",
    "    return count\n",
    "\n",
    "print('ans:',solve())"
   ]
  },
  {
   "cell_type": "code",
   "execution_count": null,
   "metadata": {},
   "outputs": [],
   "source": []
  }
 ],
 "metadata": {
  "kernelspec": {
   "display_name": "Python 3",
   "language": "python",
   "name": "python3"
  },
  "language_info": {
   "codemirror_mode": {
    "name": "ipython",
    "version": 3
   },
   "file_extension": ".py",
   "mimetype": "text/x-python",
   "name": "python",
   "nbconvert_exporter": "python",
   "pygments_lexer": "ipython3",
   "version": "3.7.3"
  }
 },
 "nbformat": 4,
 "nbformat_minor": 4
}
