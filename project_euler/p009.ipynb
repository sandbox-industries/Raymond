{
 "cells": [
  {
   "cell_type": "code",
   "execution_count": 2,
   "metadata": {},
   "outputs": [],
   "source": [
    "import time"
   ]
  },
  {
   "cell_type": "code",
   "execution_count": 3,
   "metadata": {},
   "outputs": [
    {
     "name": "stdout",
     "output_type": "stream",
     "text": [
      "(200, 375, 425, 8759) 0.03689908981323242\n"
     ]
    }
   ],
   "source": [
    "def pythagoran(perimeter):\n",
    "    counter = 0\n",
    "    for a in range(1,perimeter + 1):               # Implies a > 0\n",
    "        #print(a)\n",
    "        b = a + 1\n",
    "        while b < perimeter + 1:       # Implies a < b\n",
    "            counter += 1                           # Variable to keep track of how many times I increment b\n",
    "            c = perimeter - (a + b)\n",
    "            #print(a,b,c)\n",
    "            while a + b < c:                       #adjust b and c to satisfy the definition of a triangle\n",
    "                #print('adjusting')\n",
    "                b += 1\n",
    "                c -= 1\n",
    "                continue\n",
    "            if a**2 + b**2 > c**2:                 # Once a^2 + b^2 exceeds c^2, incrementing b will not satisfy the eqn\n",
    "                break\n",
    "            if a**2 + b**2 == c**2:                \n",
    "                return(a,b,c,counter)\n",
    "            b +=1\n",
    "        #print('-----------')\n",
    "        #print('-----------')\n",
    "        #print('-----------')\n",
    "start = time.time()\n",
    "ans = pythagoran(1000)\n",
    "stop= time.time()\n",
    "duration = stop - start\n",
    "print(ans,duration)"
   ]
  },
  {
   "cell_type": "code",
   "execution_count": 4,
   "metadata": {},
   "outputs": [
    {
     "name": "stdout",
     "output_type": "stream",
     "text": [
      "(200, 375, 425) -19.871585845947266\n"
     ]
    }
   ],
   "source": [
    "\n",
    "def get_triplet():\n",
    "    for c in range(413, 500):\n",
    "        c2 = c ** 2\n",
    "        for a in range(max(1, 1000 - c - (c - 1)), min(332, (1000 - c) // 2) + 1):\n",
    "            b = 1000 - c - a\n",
    "            if a ** 2 + b ** 2 == c2:\n",
    "                return a, b, c\n",
    "\n",
    "start = time.time()\n",
    "print(get_triplet(),stop-start)\n",
    "stop = time.time()"
   ]
  },
  {
   "cell_type": "code",
   "execution_count": null,
   "metadata": {},
   "outputs": [],
   "source": []
  }
 ],
 "metadata": {
  "kernelspec": {
   "display_name": "Python 3",
   "language": "python",
   "name": "python3"
  },
  "language_info": {
   "codemirror_mode": {
    "name": "ipython",
    "version": 3
   },
   "file_extension": ".py",
   "mimetype": "text/x-python",
   "name": "python",
   "nbconvert_exporter": "python",
   "pygments_lexer": "ipython3",
   "version": "3.7.3"
  }
 },
 "nbformat": 4,
 "nbformat_minor": 4
}
